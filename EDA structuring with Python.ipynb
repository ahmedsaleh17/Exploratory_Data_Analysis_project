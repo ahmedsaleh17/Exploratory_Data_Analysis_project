{
 "cells": [
  {
   "attachments": {},
   "cell_type": "markdown",
   "metadata": {},
   "source": [
    "# Data Structuring with Python"
   ]
  },
  {
   "attachments": {},
   "cell_type": "markdown",
   "metadata": {},
   "source": [
    "## Objective \n",
    "\n",
    "We will be examining lightning strike data collected by the National Oceanic and Atmospheric Association (NOAA) for the year of 2018. \n",
    "\n",
    "First, we will find the locations with the greatest number of strikes within a single day.  \n",
    "Then, we will examine the locations that had the greatest number of days with at least one lightning strike.  \n",
    "Next, we will determine whether certain days of the week had more lightning strikes than others.  \n",
    "Finally, we will add data from 2016 and 2017 and, for each month, calculate the percentage of total lightning strikes for that year that occurred in that month. We will then plot this data on a bar graph."
   ]
  },
  {
   "cell_type": "code",
   "execution_count": 1,
   "metadata": {},
   "outputs": [],
   "source": [
    "# Import Required Libraries\n",
    "import pandas as pd\n",
    "import numpy as np\n",
    "import seaborn as sns\n",
    "import datetime\n",
    "from matplotlib import pyplot as plt"
   ]
  },
  {
   "cell_type": "code",
   "execution_count": 2,
   "metadata": {},
   "outputs": [
    {
     "data": {
      "text/html": [
       "<div>\n",
       "<style scoped>\n",
       "    .dataframe tbody tr th:only-of-type {\n",
       "        vertical-align: middle;\n",
       "    }\n",
       "\n",
       "    .dataframe tbody tr th {\n",
       "        vertical-align: top;\n",
       "    }\n",
       "\n",
       "    .dataframe thead th {\n",
       "        text-align: right;\n",
       "    }\n",
       "</style>\n",
       "<table border=\"1\" class=\"dataframe\">\n",
       "  <thead>\n",
       "    <tr style=\"text-align: right;\">\n",
       "      <th></th>\n",
       "      <th>date</th>\n",
       "      <th>number_of_strikes</th>\n",
       "      <th>center_point_geom</th>\n",
       "    </tr>\n",
       "  </thead>\n",
       "  <tbody>\n",
       "    <tr>\n",
       "      <th>0</th>\n",
       "      <td>2018-01-03</td>\n",
       "      <td>194</td>\n",
       "      <td>POINT(-75 27)</td>\n",
       "    </tr>\n",
       "    <tr>\n",
       "      <th>1</th>\n",
       "      <td>2018-01-03</td>\n",
       "      <td>41</td>\n",
       "      <td>POINT(-78.4 29)</td>\n",
       "    </tr>\n",
       "    <tr>\n",
       "      <th>2</th>\n",
       "      <td>2018-01-03</td>\n",
       "      <td>33</td>\n",
       "      <td>POINT(-73.9 27)</td>\n",
       "    </tr>\n",
       "    <tr>\n",
       "      <th>3</th>\n",
       "      <td>2018-01-03</td>\n",
       "      <td>38</td>\n",
       "      <td>POINT(-73.8 27)</td>\n",
       "    </tr>\n",
       "    <tr>\n",
       "      <th>4</th>\n",
       "      <td>2018-01-03</td>\n",
       "      <td>92</td>\n",
       "      <td>POINT(-79 28)</td>\n",
       "    </tr>\n",
       "  </tbody>\n",
       "</table>\n",
       "</div>"
      ],
      "text/plain": [
       "         date  number_of_strikes center_point_geom\n",
       "0  2018-01-03                194     POINT(-75 27)\n",
       "1  2018-01-03                 41   POINT(-78.4 29)\n",
       "2  2018-01-03                 33   POINT(-73.9 27)\n",
       "3  2018-01-03                 38   POINT(-73.8 27)\n",
       "4  2018-01-03                 92     POINT(-79 28)"
      ]
     },
     "execution_count": 2,
     "metadata": {},
     "output_type": "execute_result"
    }
   ],
   "source": [
    "# read 2018 dataset \n",
    "df1 = pd.read_csv('eda_structuring_with_python_dataset1.csv')\n",
    "df1.head()"
   ]
  },
  {
   "cell_type": "code",
   "execution_count": 3,
   "metadata": {},
   "outputs": [
    {
     "name": "stdout",
     "output_type": "stream",
     "text": [
      "<class 'pandas.core.frame.DataFrame'>\n",
      "RangeIndex: 3401012 entries, 0 to 3401011\n",
      "Data columns (total 3 columns):\n",
      " #   Column             Dtype \n",
      "---  ------             ----- \n",
      " 0   date               object\n",
      " 1   number_of_strikes  int64 \n",
      " 2   center_point_geom  object\n",
      "dtypes: int64(1), object(2)\n",
      "memory usage: 77.8+ MB\n"
     ]
    }
   ],
   "source": [
    "# discover more about the data\n",
    "df1.info()"
   ]
  },
  {
   "cell_type": "code",
   "execution_count": 4,
   "metadata": {},
   "outputs": [],
   "source": [
    "# we notice that date column in the dataset is object\n",
    "# so we need to convert it to datetime data type \n",
    "df1['date'] = pd.to_datetime(df1['date'])"
   ]
  },
  {
   "cell_type": "code",
   "execution_count": 5,
   "metadata": {},
   "outputs": [
    {
     "data": {
      "text/plain": [
       "(3401012, 3)"
      ]
     },
     "execution_count": 5,
     "metadata": {},
     "output_type": "execute_result"
    }
   ],
   "source": [
    "# let's check the shape of the dataframe \n",
    "df1.shape"
   ]
  },
  {
   "attachments": {},
   "cell_type": "markdown",
   "metadata": {},
   "source": [
    "Let's do a quick check for duplicates. If the shape of the data is different after running this code, we'll know there were duplicate rows."
   ]
  },
  {
   "cell_type": "code",
   "execution_count": 6,
   "metadata": {},
   "outputs": [
    {
     "name": "stdout",
     "output_type": "stream",
     "text": [
      "the number of duplicates in the dataset is :  0\n"
     ]
    }
   ],
   "source": [
    "dup_num = df1.duplicated().sum()\n",
    "print('the number of duplicates in the dataset is : ' , dup_num)"
   ]
  },
  {
   "attachments": {},
   "cell_type": "markdown",
   "metadata": {},
   "source": [
    "Let's do a quick check for Nulls."
   ]
  },
  {
   "cell_type": "code",
   "execution_count": 7,
   "metadata": {},
   "outputs": [
    {
     "data": {
      "text/plain": [
       "date                 0\n",
       "number_of_strikes    0\n",
       "center_point_geom    0\n",
       "dtype: int64"
      ]
     },
     "execution_count": 7,
     "metadata": {},
     "output_type": "execute_result"
    }
   ],
   "source": [
    "df1.isnull().sum()"
   ]
  },
  {
   "attachments": {},
   "cell_type": "markdown",
   "metadata": {},
   "source": [
    "### Locations with most strikes in a single day\n",
    "To identify the locations with the most strikes in a single day, sort the `number_of_strikes` column in descending value, or most to least."
   ]
  },
  {
   "cell_type": "code",
   "execution_count": 8,
   "metadata": {},
   "outputs": [
    {
     "data": {
      "text/html": [
       "<div>\n",
       "<style scoped>\n",
       "    .dataframe tbody tr th:only-of-type {\n",
       "        vertical-align: middle;\n",
       "    }\n",
       "\n",
       "    .dataframe tbody tr th {\n",
       "        vertical-align: top;\n",
       "    }\n",
       "\n",
       "    .dataframe thead th {\n",
       "        text-align: right;\n",
       "    }\n",
       "</style>\n",
       "<table border=\"1\" class=\"dataframe\">\n",
       "  <thead>\n",
       "    <tr style=\"text-align: right;\">\n",
       "      <th></th>\n",
       "      <th>date</th>\n",
       "      <th>number_of_strikes</th>\n",
       "      <th>center_point_geom</th>\n",
       "    </tr>\n",
       "  </thead>\n",
       "  <tbody>\n",
       "    <tr>\n",
       "      <th>302758</th>\n",
       "      <td>2018-08-20</td>\n",
       "      <td>2211</td>\n",
       "      <td>POINT(-92.5 35.5)</td>\n",
       "    </tr>\n",
       "    <tr>\n",
       "      <th>278383</th>\n",
       "      <td>2018-08-16</td>\n",
       "      <td>2142</td>\n",
       "      <td>POINT(-96.1 36.1)</td>\n",
       "    </tr>\n",
       "    <tr>\n",
       "      <th>280830</th>\n",
       "      <td>2018-08-17</td>\n",
       "      <td>2061</td>\n",
       "      <td>POINT(-90.2 36.1)</td>\n",
       "    </tr>\n",
       "    <tr>\n",
       "      <th>280453</th>\n",
       "      <td>2018-08-17</td>\n",
       "      <td>2031</td>\n",
       "      <td>POINT(-89.9 35.9)</td>\n",
       "    </tr>\n",
       "    <tr>\n",
       "      <th>278382</th>\n",
       "      <td>2018-08-16</td>\n",
       "      <td>1902</td>\n",
       "      <td>POINT(-96.2 36.1)</td>\n",
       "    </tr>\n",
       "    <tr>\n",
       "      <th>11517</th>\n",
       "      <td>2018-02-10</td>\n",
       "      <td>1899</td>\n",
       "      <td>POINT(-95.5 28.1)</td>\n",
       "    </tr>\n",
       "    <tr>\n",
       "      <th>277506</th>\n",
       "      <td>2018-08-16</td>\n",
       "      <td>1878</td>\n",
       "      <td>POINT(-89.7 31.5)</td>\n",
       "    </tr>\n",
       "    <tr>\n",
       "      <th>24906</th>\n",
       "      <td>2018-02-25</td>\n",
       "      <td>1833</td>\n",
       "      <td>POINT(-98.7 28.9)</td>\n",
       "    </tr>\n",
       "    <tr>\n",
       "      <th>284320</th>\n",
       "      <td>2018-08-17</td>\n",
       "      <td>1767</td>\n",
       "      <td>POINT(-90.1 36)</td>\n",
       "    </tr>\n",
       "    <tr>\n",
       "      <th>24825</th>\n",
       "      <td>2018-02-25</td>\n",
       "      <td>1741</td>\n",
       "      <td>POINT(-98 29)</td>\n",
       "    </tr>\n",
       "  </tbody>\n",
       "</table>\n",
       "</div>"
      ],
      "text/plain": [
       "             date  number_of_strikes  center_point_geom\n",
       "302758 2018-08-20               2211  POINT(-92.5 35.5)\n",
       "278383 2018-08-16               2142  POINT(-96.1 36.1)\n",
       "280830 2018-08-17               2061  POINT(-90.2 36.1)\n",
       "280453 2018-08-17               2031  POINT(-89.9 35.9)\n",
       "278382 2018-08-16               1902  POINT(-96.2 36.1)\n",
       "11517  2018-02-10               1899  POINT(-95.5 28.1)\n",
       "277506 2018-08-16               1878  POINT(-89.7 31.5)\n",
       "24906  2018-02-25               1833  POINT(-98.7 28.9)\n",
       "284320 2018-08-17               1767    POINT(-90.1 36)\n",
       "24825  2018-02-25               1741      POINT(-98 29)"
      ]
     },
     "execution_count": 8,
     "metadata": {},
     "output_type": "execute_result"
    }
   ],
   "source": [
    "df1.sort_values(by='number_of_strikes' , ascending= False).head(10)"
   ]
  },
  {
   "attachments": {},
   "cell_type": "markdown",
   "metadata": {},
   "source": [
    "To find the number of days that a given geographic location had at least one lightning strike, we'll use the `value_counts()` function on the `center_point_geom` column."
   ]
  },
  {
   "cell_type": "code",
   "execution_count": 9,
   "metadata": {},
   "outputs": [
    {
     "data": {
      "text/html": [
       "<style type=\"text/css\">\n",
       "#T_2dc5d_row0_col1, #T_2dc5d_row1_col1 {\n",
       "  background-color: #023858;\n",
       "  color: #f1f1f1;\n",
       "}\n",
       "#T_2dc5d_row2_col1, #T_2dc5d_row3_col1 {\n",
       "  background-color: #045d92;\n",
       "  color: #f1f1f1;\n",
       "}\n",
       "#T_2dc5d_row4_col1, #T_2dc5d_row5_col1 {\n",
       "  background-color: #1379b5;\n",
       "  color: #f1f1f1;\n",
       "}\n",
       "#T_2dc5d_row6_col1, #T_2dc5d_row7_col1 {\n",
       "  background-color: #509ac6;\n",
       "  color: #f1f1f1;\n",
       "}\n",
       "#T_2dc5d_row8_col1, #T_2dc5d_row9_col1 {\n",
       "  background-color: #91b5d6;\n",
       "  color: #000000;\n",
       "}\n",
       "#T_2dc5d_row10_col1 {\n",
       "  background-color: #c4cbe3;\n",
       "  color: #000000;\n",
       "}\n",
       "#T_2dc5d_row11_col1, #T_2dc5d_row12_col1, #T_2dc5d_row13_col1, #T_2dc5d_row14_col1, #T_2dc5d_row15_col1 {\n",
       "  background-color: #e8e4f0;\n",
       "  color: #000000;\n",
       "}\n",
       "#T_2dc5d_row16_col1, #T_2dc5d_row17_col1, #T_2dc5d_row18_col1, #T_2dc5d_row19_col1 {\n",
       "  background-color: #fff7fb;\n",
       "  color: #000000;\n",
       "}\n",
       "</style>\n",
       "<table id=\"T_2dc5d\">\n",
       "  <thead>\n",
       "    <tr>\n",
       "      <th class=\"blank level0\" >&nbsp;</th>\n",
       "      <th id=\"T_2dc5d_level0_col0\" class=\"col_heading level0 col0\" >locations</th>\n",
       "      <th id=\"T_2dc5d_level0_col1\" class=\"col_heading level0 col1\" >counts</th>\n",
       "    </tr>\n",
       "  </thead>\n",
       "  <tbody>\n",
       "    <tr>\n",
       "      <th id=\"T_2dc5d_level0_row0\" class=\"row_heading level0 row0\" >0</th>\n",
       "      <td id=\"T_2dc5d_row0_col0\" class=\"data row0 col0\" >POINT(-81.5 22.5)</td>\n",
       "      <td id=\"T_2dc5d_row0_col1\" class=\"data row0 col1\" >108</td>\n",
       "    </tr>\n",
       "    <tr>\n",
       "      <th id=\"T_2dc5d_level0_row1\" class=\"row_heading level0 row1\" >1</th>\n",
       "      <td id=\"T_2dc5d_row1_col0\" class=\"data row1 col0\" >POINT(-84.1 22.4)</td>\n",
       "      <td id=\"T_2dc5d_row1_col1\" class=\"data row1 col1\" >108</td>\n",
       "    </tr>\n",
       "    <tr>\n",
       "      <th id=\"T_2dc5d_level0_row2\" class=\"row_heading level0 row2\" >2</th>\n",
       "      <td id=\"T_2dc5d_row2_col0\" class=\"data row2 col0\" >POINT(-82.5 22.9)</td>\n",
       "      <td id=\"T_2dc5d_row2_col1\" class=\"data row2 col1\" >107</td>\n",
       "    </tr>\n",
       "    <tr>\n",
       "      <th id=\"T_2dc5d_level0_row3\" class=\"row_heading level0 row3\" >3</th>\n",
       "      <td id=\"T_2dc5d_row3_col0\" class=\"data row3 col0\" >POINT(-82.7 22.9)</td>\n",
       "      <td id=\"T_2dc5d_row3_col1\" class=\"data row3 col1\" >107</td>\n",
       "    </tr>\n",
       "    <tr>\n",
       "      <th id=\"T_2dc5d_level0_row4\" class=\"row_heading level0 row4\" >4</th>\n",
       "      <td id=\"T_2dc5d_row4_col0\" class=\"data row4 col0\" >POINT(-82.5 22.8)</td>\n",
       "      <td id=\"T_2dc5d_row4_col1\" class=\"data row4 col1\" >106</td>\n",
       "    </tr>\n",
       "    <tr>\n",
       "      <th id=\"T_2dc5d_level0_row5\" class=\"row_heading level0 row5\" >5</th>\n",
       "      <td id=\"T_2dc5d_row5_col0\" class=\"data row5 col0\" >POINT(-84.2 22.3)</td>\n",
       "      <td id=\"T_2dc5d_row5_col1\" class=\"data row5 col1\" >106</td>\n",
       "    </tr>\n",
       "    <tr>\n",
       "      <th id=\"T_2dc5d_level0_row6\" class=\"row_heading level0 row6\" >6</th>\n",
       "      <td id=\"T_2dc5d_row6_col0\" class=\"data row6 col0\" >POINT(-76 20.5)</td>\n",
       "      <td id=\"T_2dc5d_row6_col1\" class=\"data row6 col1\" >105</td>\n",
       "    </tr>\n",
       "    <tr>\n",
       "      <th id=\"T_2dc5d_level0_row7\" class=\"row_heading level0 row7\" >7</th>\n",
       "      <td id=\"T_2dc5d_row7_col0\" class=\"data row7 col0\" >POINT(-75.9 20.4)</td>\n",
       "      <td id=\"T_2dc5d_row7_col1\" class=\"data row7 col1\" >105</td>\n",
       "    </tr>\n",
       "    <tr>\n",
       "      <th id=\"T_2dc5d_level0_row8\" class=\"row_heading level0 row8\" >8</th>\n",
       "      <td id=\"T_2dc5d_row8_col0\" class=\"data row8 col0\" >POINT(-82.2 22.9)</td>\n",
       "      <td id=\"T_2dc5d_row8_col1\" class=\"data row8 col1\" >104</td>\n",
       "    </tr>\n",
       "    <tr>\n",
       "      <th id=\"T_2dc5d_level0_row9\" class=\"row_heading level0 row9\" >9</th>\n",
       "      <td id=\"T_2dc5d_row9_col0\" class=\"data row9 col0\" >POINT(-78 18.2)</td>\n",
       "      <td id=\"T_2dc5d_row9_col1\" class=\"data row9 col1\" >104</td>\n",
       "    </tr>\n",
       "    <tr>\n",
       "      <th id=\"T_2dc5d_level0_row10\" class=\"row_heading level0 row10\" >10</th>\n",
       "      <td id=\"T_2dc5d_row10_col0\" class=\"data row10 col0\" >POINT(-83.9 22.5)</td>\n",
       "      <td id=\"T_2dc5d_row10_col1\" class=\"data row10 col1\" >103</td>\n",
       "    </tr>\n",
       "    <tr>\n",
       "      <th id=\"T_2dc5d_level0_row11\" class=\"row_heading level0 row11\" >11</th>\n",
       "      <td id=\"T_2dc5d_row11_col0\" class=\"data row11 col0\" >POINT(-84 22.4)</td>\n",
       "      <td id=\"T_2dc5d_row11_col1\" class=\"data row11 col1\" >102</td>\n",
       "    </tr>\n",
       "    <tr>\n",
       "      <th id=\"T_2dc5d_level0_row12\" class=\"row_heading level0 row12\" >12</th>\n",
       "      <td id=\"T_2dc5d_row12_col0\" class=\"data row12 col0\" >POINT(-82 22.8)</td>\n",
       "      <td id=\"T_2dc5d_row12_col1\" class=\"data row12 col1\" >102</td>\n",
       "    </tr>\n",
       "    <tr>\n",
       "      <th id=\"T_2dc5d_level0_row13\" class=\"row_heading level0 row13\" >13</th>\n",
       "      <td id=\"T_2dc5d_row13_col0\" class=\"data row13 col0\" >POINT(-82 22.4)</td>\n",
       "      <td id=\"T_2dc5d_row13_col1\" class=\"data row13 col1\" >102</td>\n",
       "    </tr>\n",
       "    <tr>\n",
       "      <th id=\"T_2dc5d_level0_row14\" class=\"row_heading level0 row14\" >14</th>\n",
       "      <td id=\"T_2dc5d_row14_col0\" class=\"data row14 col0\" >POINT(-82.3 22.9)</td>\n",
       "      <td id=\"T_2dc5d_row14_col1\" class=\"data row14 col1\" >102</td>\n",
       "    </tr>\n",
       "    <tr>\n",
       "      <th id=\"T_2dc5d_level0_row15\" class=\"row_heading level0 row15\" >15</th>\n",
       "      <td id=\"T_2dc5d_row15_col0\" class=\"data row15 col0\" >POINT(-78 18.3)</td>\n",
       "      <td id=\"T_2dc5d_row15_col1\" class=\"data row15 col1\" >102</td>\n",
       "    </tr>\n",
       "    <tr>\n",
       "      <th id=\"T_2dc5d_level0_row16\" class=\"row_heading level0 row16\" >16</th>\n",
       "      <td id=\"T_2dc5d_row16_col0\" class=\"data row16 col0\" >POINT(-84.1 22.5)</td>\n",
       "      <td id=\"T_2dc5d_row16_col1\" class=\"data row16 col1\" >101</td>\n",
       "    </tr>\n",
       "    <tr>\n",
       "      <th id=\"T_2dc5d_level0_row17\" class=\"row_heading level0 row17\" >17</th>\n",
       "      <td id=\"T_2dc5d_row17_col0\" class=\"data row17 col0\" >POINT(-75.5 20.6)</td>\n",
       "      <td id=\"T_2dc5d_row17_col1\" class=\"data row17 col1\" >101</td>\n",
       "    </tr>\n",
       "    <tr>\n",
       "      <th id=\"T_2dc5d_level0_row18\" class=\"row_heading level0 row18\" >18</th>\n",
       "      <td id=\"T_2dc5d_row18_col0\" class=\"data row18 col0\" >POINT(-84.2 22.4)</td>\n",
       "      <td id=\"T_2dc5d_row18_col1\" class=\"data row18 col1\" >101</td>\n",
       "    </tr>\n",
       "    <tr>\n",
       "      <th id=\"T_2dc5d_level0_row19\" class=\"row_heading level0 row19\" >19</th>\n",
       "      <td id=\"T_2dc5d_row19_col0\" class=\"data row19 col0\" >POINT(-76 20.4)</td>\n",
       "      <td id=\"T_2dc5d_row19_col1\" class=\"data row19 col1\" >101</td>\n",
       "    </tr>\n",
       "  </tbody>\n",
       "</table>\n"
      ],
      "text/plain": [
       "<pandas.io.formats.style.Styler at 0x1c6d42cf610>"
      ]
     },
     "execution_count": 9,
     "metadata": {},
     "output_type": "execute_result"
    }
   ],
   "source": [
    "df1['center_point_geom'].value_counts()[:20].rename_axis('locations').reset_index(name='counts').style.background_gradient()"
   ]
  },
  {
   "attachments": {},
   "cell_type": "markdown",
   "metadata": {},
   "source": [
    "###  Lightning strikes by day of week"
   ]
  },
  {
   "cell_type": "code",
   "execution_count": 10,
   "metadata": {},
   "outputs": [
    {
     "data": {
      "text/html": [
       "<div>\n",
       "<style scoped>\n",
       "    .dataframe tbody tr th:only-of-type {\n",
       "        vertical-align: middle;\n",
       "    }\n",
       "\n",
       "    .dataframe tbody tr th {\n",
       "        vertical-align: top;\n",
       "    }\n",
       "\n",
       "    .dataframe thead th {\n",
       "        text-align: right;\n",
       "    }\n",
       "</style>\n",
       "<table border=\"1\" class=\"dataframe\">\n",
       "  <thead>\n",
       "    <tr style=\"text-align: right;\">\n",
       "      <th></th>\n",
       "      <th>date</th>\n",
       "      <th>number_of_strikes</th>\n",
       "      <th>center_point_geom</th>\n",
       "      <th>week</th>\n",
       "      <th>weekday</th>\n",
       "    </tr>\n",
       "  </thead>\n",
       "  <tbody>\n",
       "    <tr>\n",
       "      <th>0</th>\n",
       "      <td>2018-01-03</td>\n",
       "      <td>194</td>\n",
       "      <td>POINT(-75 27)</td>\n",
       "      <td>1</td>\n",
       "      <td>Wednesday</td>\n",
       "    </tr>\n",
       "    <tr>\n",
       "      <th>1</th>\n",
       "      <td>2018-01-03</td>\n",
       "      <td>41</td>\n",
       "      <td>POINT(-78.4 29)</td>\n",
       "      <td>1</td>\n",
       "      <td>Wednesday</td>\n",
       "    </tr>\n",
       "    <tr>\n",
       "      <th>2</th>\n",
       "      <td>2018-01-03</td>\n",
       "      <td>33</td>\n",
       "      <td>POINT(-73.9 27)</td>\n",
       "      <td>1</td>\n",
       "      <td>Wednesday</td>\n",
       "    </tr>\n",
       "    <tr>\n",
       "      <th>3</th>\n",
       "      <td>2018-01-03</td>\n",
       "      <td>38</td>\n",
       "      <td>POINT(-73.8 27)</td>\n",
       "      <td>1</td>\n",
       "      <td>Wednesday</td>\n",
       "    </tr>\n",
       "    <tr>\n",
       "      <th>4</th>\n",
       "      <td>2018-01-03</td>\n",
       "      <td>92</td>\n",
       "      <td>POINT(-79 28)</td>\n",
       "      <td>1</td>\n",
       "      <td>Wednesday</td>\n",
       "    </tr>\n",
       "  </tbody>\n",
       "</table>\n",
       "</div>"
      ],
      "text/plain": [
       "        date  number_of_strikes center_point_geom  week    weekday\n",
       "0 2018-01-03                194     POINT(-75 27)     1  Wednesday\n",
       "1 2018-01-03                 41   POINT(-78.4 29)     1  Wednesday\n",
       "2 2018-01-03                 33   POINT(-73.9 27)     1  Wednesday\n",
       "3 2018-01-03                 38   POINT(-73.8 27)     1  Wednesday\n",
       "4 2018-01-03                 92     POINT(-79 28)     1  Wednesday"
      ]
     },
     "execution_count": 10,
     "metadata": {},
     "output_type": "execute_result"
    }
   ],
   "source": [
    "# create 2 columns the week column and the weekday column \n",
    "df1['week'] = df1['date'].dt.isocalendar().week\n",
    "df1['weekday'] = df1['date'].dt.day_name()\n",
    "df1.head()"
   ]
  },
  {
   "attachments": {},
   "cell_type": "markdown",
   "metadata": {},
   "source": [
    "Now, we can calculate the mean number of lightning strikes for each weekday of the year. We'll use the `groupby()` function to do this."
   ]
  },
  {
   "cell_type": "code",
   "execution_count": 11,
   "metadata": {},
   "outputs": [
    {
     "data": {
      "text/html": [
       "<div>\n",
       "<style scoped>\n",
       "    .dataframe tbody tr th:only-of-type {\n",
       "        vertical-align: middle;\n",
       "    }\n",
       "\n",
       "    .dataframe tbody tr th {\n",
       "        vertical-align: top;\n",
       "    }\n",
       "\n",
       "    .dataframe thead th {\n",
       "        text-align: right;\n",
       "    }\n",
       "</style>\n",
       "<table border=\"1\" class=\"dataframe\">\n",
       "  <thead>\n",
       "    <tr style=\"text-align: right;\">\n",
       "      <th></th>\n",
       "      <th>weekday</th>\n",
       "      <th>number_of_strikes</th>\n",
       "    </tr>\n",
       "  </thead>\n",
       "  <tbody>\n",
       "    <tr>\n",
       "      <th>0</th>\n",
       "      <td>Friday</td>\n",
       "      <td>13.349972</td>\n",
       "    </tr>\n",
       "    <tr>\n",
       "      <th>1</th>\n",
       "      <td>Monday</td>\n",
       "      <td>13.152804</td>\n",
       "    </tr>\n",
       "    <tr>\n",
       "      <th>2</th>\n",
       "      <td>Saturday</td>\n",
       "      <td>12.732694</td>\n",
       "    </tr>\n",
       "    <tr>\n",
       "      <th>3</th>\n",
       "      <td>Sunday</td>\n",
       "      <td>12.324717</td>\n",
       "    </tr>\n",
       "    <tr>\n",
       "      <th>4</th>\n",
       "      <td>Thursday</td>\n",
       "      <td>13.240594</td>\n",
       "    </tr>\n",
       "    <tr>\n",
       "      <th>5</th>\n",
       "      <td>Tuesday</td>\n",
       "      <td>13.813599</td>\n",
       "    </tr>\n",
       "    <tr>\n",
       "      <th>6</th>\n",
       "      <td>Wednesday</td>\n",
       "      <td>13.224568</td>\n",
       "    </tr>\n",
       "  </tbody>\n",
       "</table>\n",
       "</div>"
      ],
      "text/plain": [
       "     weekday  number_of_strikes\n",
       "0     Friday          13.349972\n",
       "1     Monday          13.152804\n",
       "2   Saturday          12.732694\n",
       "3     Sunday          12.324717\n",
       "4   Thursday          13.240594\n",
       "5    Tuesday          13.813599\n",
       "6  Wednesday          13.224568"
      ]
     },
     "execution_count": 11,
     "metadata": {},
     "output_type": "execute_result"
    }
   ],
   "source": [
    "Avglightning_by_week = df1[['weekday','number_of_strikes']].groupby(['weekday']).mean().reset_index()\n",
    "Avglightning_by_week"
   ]
  },
  {
   "cell_type": "code",
   "execution_count": 12,
   "metadata": {},
   "outputs": [],
   "source": [
    "# Define order of days for the plot\n",
    "weekday_order = ['Monday','Tuesday', 'Wednesday', 'Thursday','Friday','Saturday','Sunday']"
   ]
  },
  {
   "cell_type": "code",
   "execution_count": 13,
   "metadata": {},
   "outputs": [
    {
     "data": {
      "text/plain": [
       "Text(0.5, 1.0, 'Lightning distribution per weekday (2018)')"
      ]
     },
     "execution_count": 13,
     "metadata": {},
     "output_type": "execute_result"
    },
    {
     "data": {
      "image/png": "[encoded data removed]",
      "text/plain": [
       "<Figure size 640x480 with 1 Axes>"
      ]
     },
     "metadata": {},
     "output_type": "display_data"
    }
   ],
   "source": [
    "# Create boxplots of strike counts for each day of week\n",
    "g = sns.boxplot(data=df1, \n",
    "            x='weekday',\n",
    "            y='number_of_strikes', \n",
    "            order=weekday_order, \n",
    "            showfliers=False \n",
    "            )\n",
    "g.set_title('Lightning distribution per weekday (2018)')"
   ]
  },
  {
   "attachments": {},
   "cell_type": "markdown",
   "metadata": {},
   "source": [
    "Notice that the median remains the same on all of the days of the week. As for Saturday and Sunday, however, the distributions are *both* lower than the rest of the week. We also know that the mean numbers of strikes that occurred on Saturday and Sunday were lower than the other weekdays."
   ]
  },
  {
   "attachments": {},
   "cell_type": "markdown",
   "metadata": {},
   "source": [
    "### Monthly lightning strikes 2016–2018\n",
    "Finally, we'll examine monthly lightning strike data from 2016–2018. We'll calculate the percentage of total lightning strikes for each year that occurred in a given month. We will then plot this data on a bar graph."
   ]
  },
  {
   "cell_type": "code",
   "execution_count": 14,
   "metadata": {},
   "outputs": [],
   "source": [
    "# Import 2016–2017 data\n",
    "df2 = pd.read_csv('eda_structuring_with_python_dataset2.csv')"
   ]
  },
  {
   "cell_type": "code",
   "execution_count": 15,
   "metadata": {},
   "outputs": [
    {
     "data": {
      "text/html": [
       "<div>\n",
       "<style scoped>\n",
       "    .dataframe tbody tr th:only-of-type {\n",
       "        vertical-align: middle;\n",
       "    }\n",
       "\n",
       "    .dataframe tbody tr th {\n",
       "        vertical-align: top;\n",
       "    }\n",
       "\n",
       "    .dataframe thead th {\n",
       "        text-align: right;\n",
       "    }\n",
       "</style>\n",
       "<table border=\"1\" class=\"dataframe\">\n",
       "  <thead>\n",
       "    <tr style=\"text-align: right;\">\n",
       "      <th></th>\n",
       "      <th>date</th>\n",
       "      <th>number_of_strikes</th>\n",
       "      <th>center_point_geom</th>\n",
       "    </tr>\n",
       "  </thead>\n",
       "  <tbody>\n",
       "    <tr>\n",
       "      <th>0</th>\n",
       "      <td>2016-01-04</td>\n",
       "      <td>55</td>\n",
       "      <td>POINT(-83.2 21.1)</td>\n",
       "    </tr>\n",
       "    <tr>\n",
       "      <th>1</th>\n",
       "      <td>2016-01-04</td>\n",
       "      <td>33</td>\n",
       "      <td>POINT(-83.1 21.1)</td>\n",
       "    </tr>\n",
       "    <tr>\n",
       "      <th>2</th>\n",
       "      <td>2016-01-05</td>\n",
       "      <td>46</td>\n",
       "      <td>POINT(-77.5 22.1)</td>\n",
       "    </tr>\n",
       "    <tr>\n",
       "      <th>3</th>\n",
       "      <td>2016-01-05</td>\n",
       "      <td>28</td>\n",
       "      <td>POINT(-76.8 22.3)</td>\n",
       "    </tr>\n",
       "    <tr>\n",
       "      <th>4</th>\n",
       "      <td>2016-01-05</td>\n",
       "      <td>28</td>\n",
       "      <td>POINT(-77 22.1)</td>\n",
       "    </tr>\n",
       "  </tbody>\n",
       "</table>\n",
       "</div>"
      ],
      "text/plain": [
       "         date  number_of_strikes  center_point_geom\n",
       "0  2016-01-04                 55  POINT(-83.2 21.1)\n",
       "1  2016-01-04                 33  POINT(-83.1 21.1)\n",
       "2  2016-01-05                 46  POINT(-77.5 22.1)\n",
       "3  2016-01-05                 28  POINT(-76.8 22.3)\n",
       "4  2016-01-05                 28    POINT(-77 22.1)"
      ]
     },
     "execution_count": 15,
     "metadata": {},
     "output_type": "execute_result"
    }
   ],
   "source": [
    "df2.head()"
   ]
  },
  {
   "cell_type": "code",
   "execution_count": 16,
   "metadata": {},
   "outputs": [
    {
     "name": "stdout",
     "output_type": "stream",
     "text": [
      "<class 'pandas.core.frame.DataFrame'>\n",
      "RangeIndex: 7077991 entries, 0 to 7077990\n",
      "Data columns (total 3 columns):\n",
      " #   Column             Dtype \n",
      "---  ------             ----- \n",
      " 0   date               object\n",
      " 1   number_of_strikes  int64 \n",
      " 2   center_point_geom  object\n",
      "dtypes: int64(1), object(2)\n",
      "memory usage: 162.0+ MB\n"
     ]
    }
   ],
   "source": [
    "# discover more about the data\n",
    "df2.info()"
   ]
  },
  {
   "cell_type": "code",
   "execution_count": 17,
   "metadata": {},
   "outputs": [],
   "source": [
    "# we notice that date column in the dataset is object\n",
    "# so we need to convert it to datetime data type \n",
    "df2['date'] = pd.to_datetime(df2['date'])"
   ]
  },
  {
   "attachments": {},
   "cell_type": "markdown",
   "metadata": {},
   "source": [
    "Let's do a quick check for duplicates. If the shape of the data is different after running this code, we'll know there were duplicate rows."
   ]
  },
  {
   "cell_type": "code",
   "execution_count": 18,
   "metadata": {},
   "outputs": [
    {
     "name": "stdout",
     "output_type": "stream",
     "text": [
      "the number of duplicates in the dataset is :  0\n"
     ]
    }
   ],
   "source": [
    "dup_num = df2.duplicated().sum()\n",
    "print('the number of duplicates in the dataset is : ' , dup_num)"
   ]
  },
  {
   "attachments": {},
   "cell_type": "markdown",
   "metadata": {},
   "source": [
    "Let's do a quick check for Nulls."
   ]
  },
  {
   "cell_type": "code",
   "execution_count": 19,
   "metadata": {},
   "outputs": [
    {
     "data": {
      "text/plain": [
       "date                 0\n",
       "number_of_strikes    0\n",
       "center_point_geom    0\n",
       "dtype: int64"
      ]
     },
     "execution_count": 19,
     "metadata": {},
     "output_type": "execute_result"
    }
   ],
   "source": [
    "df2.isnull().sum()"
   ]
  },
  {
   "attachments": {},
   "cell_type": "markdown",
   "metadata": {},
   "source": [
    "Now we can combine the 2016–2017 dataframe with the 2018 dataframe."
   ]
  },
  {
   "cell_type": "code",
   "execution_count": 20,
   "metadata": {},
   "outputs": [
    {
     "data": {
      "text/html": [
       "<div>\n",
       "<style scoped>\n",
       "    .dataframe tbody tr th:only-of-type {\n",
       "        vertical-align: middle;\n",
       "    }\n",
       "\n",
       "    .dataframe tbody tr th {\n",
       "        vertical-align: top;\n",
       "    }\n",
       "\n",
       "    .dataframe thead th {\n",
       "        text-align: right;\n",
       "    }\n",
       "</style>\n",
       "<table border=\"1\" class=\"dataframe\">\n",
       "  <thead>\n",
       "    <tr style=\"text-align: right;\">\n",
       "      <th></th>\n",
       "      <th>date</th>\n",
       "      <th>number_of_strikes</th>\n",
       "      <th>center_point_geom</th>\n",
       "    </tr>\n",
       "  </thead>\n",
       "  <tbody>\n",
       "    <tr>\n",
       "      <th>0</th>\n",
       "      <td>2018-01-03</td>\n",
       "      <td>194</td>\n",
       "      <td>POINT(-75 27)</td>\n",
       "    </tr>\n",
       "    <tr>\n",
       "      <th>1</th>\n",
       "      <td>2018-01-03</td>\n",
       "      <td>41</td>\n",
       "      <td>POINT(-78.4 29)</td>\n",
       "    </tr>\n",
       "    <tr>\n",
       "      <th>2</th>\n",
       "      <td>2018-01-03</td>\n",
       "      <td>33</td>\n",
       "      <td>POINT(-73.9 27)</td>\n",
       "    </tr>\n",
       "    <tr>\n",
       "      <th>3</th>\n",
       "      <td>2018-01-03</td>\n",
       "      <td>38</td>\n",
       "      <td>POINT(-73.8 27)</td>\n",
       "    </tr>\n",
       "    <tr>\n",
       "      <th>4</th>\n",
       "      <td>2018-01-03</td>\n",
       "      <td>92</td>\n",
       "      <td>POINT(-79 28)</td>\n",
       "    </tr>\n",
       "  </tbody>\n",
       "</table>\n",
       "</div>"
      ],
      "text/plain": [
       "        date  number_of_strikes center_point_geom\n",
       "0 2018-01-03                194     POINT(-75 27)\n",
       "1 2018-01-03                 41   POINT(-78.4 29)\n",
       "2 2018-01-03                 33   POINT(-73.9 27)\n",
       "3 2018-01-03                 38   POINT(-73.8 27)\n",
       "4 2018-01-03                 92     POINT(-79 28)"
      ]
     },
     "execution_count": 20,
     "metadata": {},
     "output_type": "execute_result"
    }
   ],
   "source": [
    "# df1 --> 2018 dataframe\n",
    "# df2 --> 2016-2017 dataframe\n",
    "df = pd.concat([df1.drop(['week', 'weekday'],axis=1) , df2] , ignore_index= True)\n",
    "df.head()"
   ]
  },
  {
   "cell_type": "code",
   "execution_count": 21,
   "metadata": {},
   "outputs": [
    {
     "name": "stdout",
     "output_type": "stream",
     "text": [
      "<class 'pandas.core.frame.DataFrame'>\n",
      "RangeIndex: 10479003 entries, 0 to 10479002\n",
      "Data columns (total 3 columns):\n",
      " #   Column             Dtype         \n",
      "---  ------             -----         \n",
      " 0   date               datetime64[ns]\n",
      " 1   number_of_strikes  int64         \n",
      " 2   center_point_geom  object        \n",
      "dtypes: datetime64[ns](1), int64(1), object(1)\n",
      "memory usage: 239.8+ MB\n"
     ]
    }
   ],
   "source": [
    "df.info()"
   ]
  },
  {
   "attachments": {},
   "cell_type": "markdown",
   "metadata": {},
   "source": [
    "To help us with naming the bars of the bar plot, we'll create three new columns that isolate the year, month number, and month name. "
   ]
  },
  {
   "cell_type": "code",
   "execution_count": 22,
   "metadata": {},
   "outputs": [
    {
     "data": {
      "text/html": [
       "<div>\n",
       "<style scoped>\n",
       "    .dataframe tbody tr th:only-of-type {\n",
       "        vertical-align: middle;\n",
       "    }\n",
       "\n",
       "    .dataframe tbody tr th {\n",
       "        vertical-align: top;\n",
       "    }\n",
       "\n",
       "    .dataframe thead th {\n",
       "        text-align: right;\n",
       "    }\n",
       "</style>\n",
       "<table border=\"1\" class=\"dataframe\">\n",
       "  <thead>\n",
       "    <tr style=\"text-align: right;\">\n",
       "      <th></th>\n",
       "      <th>date</th>\n",
       "      <th>number_of_strikes</th>\n",
       "      <th>center_point_geom</th>\n",
       "      <th>year</th>\n",
       "      <th>month</th>\n",
       "      <th>month_txt</th>\n",
       "    </tr>\n",
       "  </thead>\n",
       "  <tbody>\n",
       "    <tr>\n",
       "      <th>0</th>\n",
       "      <td>2018-01-03</td>\n",
       "      <td>194</td>\n",
       "      <td>POINT(-75 27)</td>\n",
       "      <td>2018</td>\n",
       "      <td>1</td>\n",
       "      <td>January</td>\n",
       "    </tr>\n",
       "    <tr>\n",
       "      <th>1</th>\n",
       "      <td>2018-01-03</td>\n",
       "      <td>41</td>\n",
       "      <td>POINT(-78.4 29)</td>\n",
       "      <td>2018</td>\n",
       "      <td>1</td>\n",
       "      <td>January</td>\n",
       "    </tr>\n",
       "    <tr>\n",
       "      <th>2</th>\n",
       "      <td>2018-01-03</td>\n",
       "      <td>33</td>\n",
       "      <td>POINT(-73.9 27)</td>\n",
       "      <td>2018</td>\n",
       "      <td>1</td>\n",
       "      <td>January</td>\n",
       "    </tr>\n",
       "    <tr>\n",
       "      <th>3</th>\n",
       "      <td>2018-01-03</td>\n",
       "      <td>38</td>\n",
       "      <td>POINT(-73.8 27)</td>\n",
       "      <td>2018</td>\n",
       "      <td>1</td>\n",
       "      <td>January</td>\n",
       "    </tr>\n",
       "    <tr>\n",
       "      <th>4</th>\n",
       "      <td>2018-01-03</td>\n",
       "      <td>92</td>\n",
       "      <td>POINT(-79 28)</td>\n",
       "      <td>2018</td>\n",
       "      <td>1</td>\n",
       "      <td>January</td>\n",
       "    </tr>\n",
       "  </tbody>\n",
       "</table>\n",
       "</div>"
      ],
      "text/plain": [
       "        date  number_of_strikes center_point_geom  year  month month_txt\n",
       "0 2018-01-03                194     POINT(-75 27)  2018      1   January\n",
       "1 2018-01-03                 41   POINT(-78.4 29)  2018      1   January\n",
       "2 2018-01-03                 33   POINT(-73.9 27)  2018      1   January\n",
       "3 2018-01-03                 38   POINT(-73.8 27)  2018      1   January\n",
       "4 2018-01-03                 92     POINT(-79 28)  2018      1   January"
      ]
     },
     "execution_count": 22,
     "metadata": {},
     "output_type": "execute_result"
    }
   ],
   "source": [
    "# add 3 new columns\n",
    "df['year'] = df['date'].dt.year\n",
    "df['month'] = df['date'].dt.month\n",
    "df['month_txt'] = df['date'].dt.month_name()\n",
    "df.head()"
   ]
  },
  {
   "attachments": {},
   "cell_type": "markdown",
   "metadata": {},
   "source": [
    "Let's check the overall lightning strike count for each year."
   ]
  },
  {
   "cell_type": "code",
   "execution_count": 23,
   "metadata": {},
   "outputs": [],
   "source": [
    "# Calculate total number of strikes per year\n",
    "lightning_by_year = df[['year', 'number_of_strikes']].groupby(['year']).sum().reset_index()"
   ]
  },
  {
   "cell_type": "code",
   "execution_count": 24,
   "metadata": {},
   "outputs": [
    {
     "data": {
      "text/html": [
       "<div>\n",
       "<style scoped>\n",
       "    .dataframe tbody tr th:only-of-type {\n",
       "        vertical-align: middle;\n",
       "    }\n",
       "\n",
       "    .dataframe tbody tr th {\n",
       "        vertical-align: top;\n",
       "    }\n",
       "\n",
       "    .dataframe thead th {\n",
       "        text-align: right;\n",
       "    }\n",
       "</style>\n",
       "<table border=\"1\" class=\"dataframe\">\n",
       "  <thead>\n",
       "    <tr style=\"text-align: right;\">\n",
       "      <th></th>\n",
       "      <th>year</th>\n",
       "      <th>year_strikes</th>\n",
       "    </tr>\n",
       "  </thead>\n",
       "  <tbody>\n",
       "    <tr>\n",
       "      <th>0</th>\n",
       "      <td>2016</td>\n",
       "      <td>41582229</td>\n",
       "    </tr>\n",
       "    <tr>\n",
       "      <th>1</th>\n",
       "      <td>2017</td>\n",
       "      <td>35095195</td>\n",
       "    </tr>\n",
       "    <tr>\n",
       "      <th>2</th>\n",
       "      <td>2018</td>\n",
       "      <td>44600989</td>\n",
       "    </tr>\n",
       "  </tbody>\n",
       "</table>\n",
       "</div>"
      ],
      "text/plain": [
       "   year  year_strikes\n",
       "0  2016      41582229\n",
       "1  2017      35095195\n",
       "2  2018      44600989"
      ]
     },
     "execution_count": 24,
     "metadata": {},
     "output_type": "execute_result"
    }
   ],
   "source": [
    "lightning_by_year.rename(columns={'number_of_strikes':'year_strikes'},inplace=True)\n",
    "lightning_by_year"
   ]
  },
  {
   "attachments": {},
   "cell_type": "markdown",
   "metadata": {},
   "source": [
    "Let's check the overall lightning strike count for each month."
   ]
  },
  {
   "cell_type": "code",
   "execution_count": 25,
   "metadata": {},
   "outputs": [],
   "source": [
    "lightning_by_month = df[['month_txt' , 'year' , 'number_of_strikes']].groupby(['month_txt' , 'year' ]).sum().reset_index()"
   ]
  },
  {
   "cell_type": "code",
   "execution_count": 26,
   "metadata": {},
   "outputs": [
    {
     "data": {
      "text/html": [
       "<div>\n",
       "<style scoped>\n",
       "    .dataframe tbody tr th:only-of-type {\n",
       "        vertical-align: middle;\n",
       "    }\n",
       "\n",
       "    .dataframe tbody tr th {\n",
       "        vertical-align: top;\n",
       "    }\n",
       "\n",
       "    .dataframe thead th {\n",
       "        text-align: right;\n",
       "    }\n",
       "</style>\n",
       "<table border=\"1\" class=\"dataframe\">\n",
       "  <thead>\n",
       "    <tr style=\"text-align: right;\">\n",
       "      <th></th>\n",
       "      <th>month_txt</th>\n",
       "      <th>year</th>\n",
       "      <th>number_of_strikes</th>\n",
       "    </tr>\n",
       "  </thead>\n",
       "  <tbody>\n",
       "    <tr>\n",
       "      <th>0</th>\n",
       "      <td>April</td>\n",
       "      <td>2016</td>\n",
       "      <td>2636427</td>\n",
       "    </tr>\n",
       "    <tr>\n",
       "      <th>1</th>\n",
       "      <td>April</td>\n",
       "      <td>2017</td>\n",
       "      <td>3819075</td>\n",
       "    </tr>\n",
       "    <tr>\n",
       "      <th>2</th>\n",
       "      <td>April</td>\n",
       "      <td>2018</td>\n",
       "      <td>1524339</td>\n",
       "    </tr>\n",
       "    <tr>\n",
       "      <th>3</th>\n",
       "      <td>August</td>\n",
       "      <td>2016</td>\n",
       "      <td>7250442</td>\n",
       "    </tr>\n",
       "    <tr>\n",
       "      <th>4</th>\n",
       "      <td>August</td>\n",
       "      <td>2017</td>\n",
       "      <td>6021702</td>\n",
       "    </tr>\n",
       "  </tbody>\n",
       "</table>\n",
       "</div>"
      ],
      "text/plain": [
       "  month_txt  year  number_of_strikes\n",
       "0     April  2016            2636427\n",
       "1     April  2017            3819075\n",
       "2     April  2018            1524339\n",
       "3    August  2016            7250442\n",
       "4    August  2017            6021702"
      ]
     },
     "execution_count": 26,
     "metadata": {},
     "output_type": "execute_result"
    }
   ],
   "source": [
    "lightning_by_month.head()"
   ]
  },
  {
   "cell_type": "code",
   "execution_count": 27,
   "metadata": {},
   "outputs": [
    {
     "data": {
      "text/html": [
       "<div>\n",
       "<style scoped>\n",
       "    .dataframe tbody tr th:only-of-type {\n",
       "        vertical-align: middle;\n",
       "    }\n",
       "\n",
       "    .dataframe tbody tr th {\n",
       "        vertical-align: top;\n",
       "    }\n",
       "\n",
       "    .dataframe thead th {\n",
       "        text-align: right;\n",
       "    }\n",
       "</style>\n",
       "<table border=\"1\" class=\"dataframe\">\n",
       "  <thead>\n",
       "    <tr style=\"text-align: right;\">\n",
       "      <th></th>\n",
       "      <th>month_txt</th>\n",
       "      <th>year</th>\n",
       "      <th>number_of_strikes</th>\n",
       "      <th>year_strikes</th>\n",
       "    </tr>\n",
       "  </thead>\n",
       "  <tbody>\n",
       "    <tr>\n",
       "      <th>0</th>\n",
       "      <td>April</td>\n",
       "      <td>2016</td>\n",
       "      <td>2636427</td>\n",
       "      <td>41582229</td>\n",
       "    </tr>\n",
       "    <tr>\n",
       "      <th>1</th>\n",
       "      <td>August</td>\n",
       "      <td>2016</td>\n",
       "      <td>7250442</td>\n",
       "      <td>41582229</td>\n",
       "    </tr>\n",
       "    <tr>\n",
       "      <th>2</th>\n",
       "      <td>December</td>\n",
       "      <td>2016</td>\n",
       "      <td>316450</td>\n",
       "      <td>41582229</td>\n",
       "    </tr>\n",
       "    <tr>\n",
       "      <th>3</th>\n",
       "      <td>February</td>\n",
       "      <td>2016</td>\n",
       "      <td>312676</td>\n",
       "      <td>41582229</td>\n",
       "    </tr>\n",
       "    <tr>\n",
       "      <th>4</th>\n",
       "      <td>January</td>\n",
       "      <td>2016</td>\n",
       "      <td>313595</td>\n",
       "      <td>41582229</td>\n",
       "    </tr>\n",
       "  </tbody>\n",
       "</table>\n",
       "</div>"
      ],
      "text/plain": [
       "  month_txt  year  number_of_strikes  year_strikes\n",
       "0     April  2016            2636427      41582229\n",
       "1    August  2016            7250442      41582229\n",
       "2  December  2016             316450      41582229\n",
       "3  February  2016             312676      41582229\n",
       "4   January  2016             313595      41582229"
      ]
     },
     "execution_count": 27,
     "metadata": {},
     "output_type": "execute_result"
    }
   ],
   "source": [
    "# Combine `lightning_by_month` and `lightning_by_year` dataframes into single dataframe\n",
    "percentage_lightning = lightning_by_month.merge(lightning_by_year,on='year')\n",
    "percentage_lightning.head()"
   ]
  },
  {
   "cell_type": "code",
   "execution_count": 28,
   "metadata": {},
   "outputs": [
    {
     "name": "stdout",
     "output_type": "stream",
     "text": [
      "<class 'pandas.core.frame.DataFrame'>\n",
      "Int64Index: 36 entries, 0 to 35\n",
      "Data columns (total 4 columns):\n",
      " #   Column             Non-Null Count  Dtype \n",
      "---  ------             --------------  ----- \n",
      " 0   month_txt          36 non-null     object\n",
      " 1   year               36 non-null     int64 \n",
      " 2   number_of_strikes  36 non-null     int64 \n",
      " 3   year_strikes       36 non-null     int64 \n",
      "dtypes: int64(3), object(1)\n",
      "memory usage: 1.4+ KB\n"
     ]
    }
   ],
   "source": [
    "percentage_lightning.info()"
   ]
  },
  {
   "cell_type": "code",
   "execution_count": 29,
   "metadata": {},
   "outputs": [
    {
     "data": {
      "text/html": [
       "<div>\n",
       "<style scoped>\n",
       "    .dataframe tbody tr th:only-of-type {\n",
       "        vertical-align: middle;\n",
       "    }\n",
       "\n",
       "    .dataframe tbody tr th {\n",
       "        vertical-align: top;\n",
       "    }\n",
       "\n",
       "    .dataframe thead th {\n",
       "        text-align: right;\n",
       "    }\n",
       "</style>\n",
       "<table border=\"1\" class=\"dataframe\">\n",
       "  <thead>\n",
       "    <tr style=\"text-align: right;\">\n",
       "      <th></th>\n",
       "      <th>month_txt</th>\n",
       "      <th>year</th>\n",
       "      <th>number_of_strikes</th>\n",
       "      <th>year_strikes</th>\n",
       "      <th>percentage_lightning_per_month</th>\n",
       "    </tr>\n",
       "  </thead>\n",
       "  <tbody>\n",
       "    <tr>\n",
       "      <th>0</th>\n",
       "      <td>April</td>\n",
       "      <td>2016</td>\n",
       "      <td>2636427</td>\n",
       "      <td>41582229</td>\n",
       "      <td>6.340273</td>\n",
       "    </tr>\n",
       "    <tr>\n",
       "      <th>1</th>\n",
       "      <td>August</td>\n",
       "      <td>2016</td>\n",
       "      <td>7250442</td>\n",
       "      <td>41582229</td>\n",
       "      <td>17.436396</td>\n",
       "    </tr>\n",
       "    <tr>\n",
       "      <th>2</th>\n",
       "      <td>December</td>\n",
       "      <td>2016</td>\n",
       "      <td>316450</td>\n",
       "      <td>41582229</td>\n",
       "      <td>0.761022</td>\n",
       "    </tr>\n",
       "    <tr>\n",
       "      <th>3</th>\n",
       "      <td>February</td>\n",
       "      <td>2016</td>\n",
       "      <td>312676</td>\n",
       "      <td>41582229</td>\n",
       "      <td>0.751946</td>\n",
       "    </tr>\n",
       "    <tr>\n",
       "      <th>4</th>\n",
       "      <td>January</td>\n",
       "      <td>2016</td>\n",
       "      <td>313595</td>\n",
       "      <td>41582229</td>\n",
       "      <td>0.754156</td>\n",
       "    </tr>\n",
       "  </tbody>\n",
       "</table>\n",
       "</div>"
      ],
      "text/plain": [
       "  month_txt  year  number_of_strikes  year_strikes  \\\n",
       "0     April  2016            2636427      41582229   \n",
       "1    August  2016            7250442      41582229   \n",
       "2  December  2016             316450      41582229   \n",
       "3  February  2016             312676      41582229   \n",
       "4   January  2016             313595      41582229   \n",
       "\n",
       "   percentage_lightning_per_month  \n",
       "0                        6.340273  \n",
       "1                       17.436396  \n",
       "2                        0.761022  \n",
       "3                        0.751946  \n",
       "4                        0.754156  "
      ]
     },
     "execution_count": 29,
     "metadata": {},
     "output_type": "execute_result"
    }
   ],
   "source": [
    "# Create new `percentage_lightning_per_month` column\n",
    "percentage_lightning['percentage_lightning_per_month'] = (percentage_lightning.number_of_strikes/\n",
    "                                                          percentage_lightning.year_strikes * 100.0)\n",
    "percentage_lightning.head()"
   ]
  },
  {
   "attachments": {},
   "cell_type": "markdown",
   "metadata": {},
   "source": [
    "Now we can plot the percentages by month in a bar graph! "
   ]
  },
  {
   "cell_type": "code",
   "execution_count": 30,
   "metadata": {},
   "outputs": [
    {
     "data": {
      "text/plain": [
       "Text(0.5, 1.0, '% of lightning strikes each Month (2016-2018)')"
      ]
     },
     "execution_count": 30,
     "metadata": {},
     "output_type": "execute_result"
    },
    {
     "data": {
      "image/png": "[encoded data removed]",
      "text/plain": [
       "<Figure size 1400x500 with 1 Axes>"
      ]
     },
     "metadata": {},
     "output_type": "display_data"
    }
   ],
   "source": [
    "plt.figure(figsize=(14 , 5))\n",
    "\n",
    "month_order = ['January', 'February', 'March', 'April', 'May', 'June', \n",
    "               'July', 'August', 'September', 'October', 'November', 'December']\n",
    "\n",
    "sns.barplot(data=percentage_lightning,\n",
    "            x = 'month_txt',\n",
    "            y = 'percentage_lightning_per_month',\n",
    "            hue= 'year',\n",
    "            order= month_order)\n",
    "\n",
    "plt.xlabel(\"Month\")\n",
    "plt.ylabel(\"% of lightning strikes\")\n",
    "plt.title(\"% of lightning strikes each Month (2016-2018)\")\n"
   ]
  }
 ],
 "metadata": {
  "kernelspec": {
   "display_name": "base",
   "language": "python",
   "name": "python3"
  },
  "language_info": {
   "codemirror_mode": {
    "name": "ipython",
    "version": 3
   },
   "file_extension": ".py",
   "mimetype": "text/x-python",
   "name": "python",
   "nbconvert_exporter": "python",
   "pygments_lexer": "ipython3",
   "version": "3.10.9"
  },
  "orig_nbformat": 4
 },
 "nbformat": 4,
 "nbformat_minor": 2
}
